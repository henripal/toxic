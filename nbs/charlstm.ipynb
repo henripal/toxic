{
 "cells": [
  {
   "cell_type": "code",
   "execution_count": null,
   "metadata": {},
   "outputs": [],
   "source": [
    "import pandas as pd\n",
    "import numpy as np\n",
    "from sklearn.model_selection import train_test_split\n",
    "from sklearn.metrics import log_loss\n",
    "import matplotlib.pyplot as plt\n",
    "%matplotlib inline"
   ]
  },
  {
   "cell_type": "code",
   "execution_count": null,
   "metadata": {},
   "outputs": [],
   "source": [
    "%load_ext autoreload\n",
    "%autoreload 2"
   ]
  },
  {
   "cell_type": "code",
   "execution_count": null,
   "metadata": {},
   "outputs": [],
   "source": [
    "import os, sys\n",
    "lib_path = os.path.abspath(os.path.join('../classifier/'))\n",
    "sys.path.append(lib_path)\n",
    "import classifier"
   ]
  },
  {
   "cell_type": "code",
   "execution_count": null,
   "metadata": {},
   "outputs": [],
   "source": [
    "import nltk\n",
    "import torch\n",
    "import torchtext.vocab as vocab\n",
    "import torch.optim as optim\n",
    "import torch.autograd as autograd\n",
    "import torch.nn as nn\n",
    "import torch.utils.data as torchdata"
   ]
  },
  {
   "cell_type": "code",
   "execution_count": 5,
   "metadata": {},
   "outputs": [],
   "source": [
    "import pickle"
   ]
  },
  {
   "cell_type": "code",
   "execution_count": 6,
   "metadata": {},
   "outputs": [],
   "source": [
    "glove = vocab.GloVe(name='6B', dim=50)"
   ]
  },
  {
   "cell_type": "markdown",
   "metadata": {},
   "source": [
    "# preprocess data"
   ]
  },
  {
   "cell_type": "code",
   "execution_count": 7,
   "metadata": {},
   "outputs": [],
   "source": [
    "subset_train = 1"
   ]
  },
  {
   "cell_type": "code",
   "execution_count": 8,
   "metadata": {},
   "outputs": [],
   "source": [
    "datapath = '../data/'"
   ]
  },
  {
   "cell_type": "code",
   "execution_count": 9,
   "metadata": {},
   "outputs": [],
   "source": [
    "train = pd.read_csv(datapath + 'train.csv')\n",
    "test = pd.read_csv(datapath + 'test.csv')\n",
    "sub = pd.read_csv(datapath + 'sample_submission.csv')\n",
    "train = train.iloc[:int(len(train) * subset_train), :]\n",
    "test = test.iloc[:int(len(test) * subset_train), :]\n",
    "test = test.fillna('unknown')\n",
    "comment_types = train.columns[2:].values"
   ]
  },
  {
   "cell_type": "code",
   "execution_count": null,
   "metadata": {},
   "outputs": [],
   "source": [
    "lang = classifier.Language()"
   ]
  },
  {
   "cell_type": "code",
   "execution_count": null,
   "metadata": {},
   "outputs": [],
   "source": [
    "lang.process_sentences(train.comment_text.values,\n",
    "                      test_sentences=list(test.comment_text.values))"
   ]
  },
  {
   "cell_type": "code",
   "execution_count": null,
   "metadata": {},
   "outputs": [],
   "source": []
  },
  {
   "cell_type": "code",
   "execution_count": null,
   "metadata": {},
   "outputs": [],
   "source": [
    "pickle.dump(lang, open(datapath + 'lang.pk', 'wb'))"
   ]
  },
  {
   "cell_type": "code",
   "execution_count": 10,
   "metadata": {},
   "outputs": [],
   "source": [
    "lang = pickle.load(open(datapath + 'lang.pk', 'rb'))"
   ]
  },
  {
   "cell_type": "code",
   "execution_count": 11,
   "metadata": {},
   "outputs": [],
   "source": [
    "init_embedding = classifier.create_init_embedding(lang, glove)"
   ]
  },
  {
   "cell_type": "code",
   "execution_count": 12,
   "metadata": {},
   "outputs": [],
   "source": [
    "model = classifier.CharLSTM(lang.vocab_size,\n",
    "                            char_size=127,\n",
    "                           embedding_dim=50,\n",
    "                           hidden_dim=128,\n",
    "                            linear_dim=64, \n",
    "                           n_layers=1,\n",
    "                           init_embedding=init_embedding,\n",
    "                            char_embedding_dim=15,\n",
    "                            char_hidden_dim = 32, \n",
    "                            char_n_layers=1,\n",
    "                            dropout=.1,\n",
    "                            gpu=True,\n",
    "                           bidirectional=True,\n",
    "                           char_bidirectional=True)"
   ]
  },
  {
   "cell_type": "code",
   "execution_count": 13,
   "metadata": {},
   "outputs": [],
   "source": [
    "loss = nn.BCELoss()\n",
    "optimizer = optim.Adam(model.parameters(), lr=0.0005)\n",
    "#model = model.cuda()"
   ]
  },
  {
   "cell_type": "code",
   "execution_count": null,
   "metadata": {},
   "outputs": [],
   "source": [
    "trainer = classifier.CharTrainer(model,\n",
    "                             optimizer,\n",
    "                             loss,\n",
    "                             lang.encoded_sentences,\n",
    "                                 lang.encoded_chars,\n",
    "                             train.loc[:, comment_types].values.astype(int),\n",
    "                             batch_size =  600,\n",
    "                            val_size=.01,\n",
    "                                stratify = np.sum(train.loc[:, comment_types].values.astype(int), 1) )"
   ]
  },
  {
   "cell_type": "code",
   "execution_count": null,
   "metadata": {},
   "outputs": [],
   "source": [
    "trainer.train(1)"
   ]
  },
  {
   "cell_type": "code",
   "execution_count": 14,
   "metadata": {},
   "outputs": [
    {
     "name": "stdout",
     "output_type": "stream",
     "text": [
      "************* model 0 **********\n",
      "Epoch: 0    loss: 0.1512,  val: 0.0599\n",
      "Epoch: 1    loss: 0.1191,  val: 0.0541\n",
      "Epoch: 2    loss: 0.1132,  val: 0.0509\n",
      "Epoch: 3    loss: 0.1082,  val: 0.0492\n",
      "predicting...\n",
      "saving file...\n",
      "done\n",
      "************* model 1 **********\n",
      "Epoch: 0    loss: 0.1560,  val: 0.0526\n",
      "Epoch: 1    loss: 0.1193,  val: 0.0477\n",
      "Epoch: 2    loss: 0.1137,  val: 0.0462\n",
      "Epoch: 3    loss: 0.1094,  val: 0.0445\n",
      "predicting...\n",
      "saving file...\n",
      "done\n"
     ]
    }
   ],
   "source": [
    "results = np.zeros_like(sub.loc[:, comment_types].values)\n",
    "n = 2 \n",
    "for _ in range(n):\n",
    "    print('************* model {} **********'.format(_))\n",
    "    model = classifier.CharLSTM(lang.vocab_size,\n",
    "                                char_size=127,\n",
    "                               embedding_dim=50,\n",
    "                               hidden_dim=128,\n",
    "                                linear_dim=64, \n",
    "                               n_layers=1,\n",
    "                               init_embedding=init_embedding,\n",
    "                                char_embedding_dim=15,\n",
    "                                char_hidden_dim = 32, \n",
    "                                char_n_layers=1,\n",
    "                                dropout=.1,\n",
    "                                gpu=True,\n",
    "                               bidirectional=True,\n",
    "                               char_bidirectional=True)\n",
    "    loss = nn.BCELoss()\n",
    "    optimizer = optim.Adam(model.parameters(), lr=0.0005)\n",
    "    trainer = classifier.CharTrainer(model,\n",
    "                                 optimizer,\n",
    "                                 loss,\n",
    "                                 lang.encoded_sentences,\n",
    "                                     lang.encoded_chars,\n",
    "                                 train.loc[:, comment_types].values.astype(int),\n",
    "                                 batch_size =  128,\n",
    "                                val_size=.01)\n",
    "    trainer.train(4)\n",
    "    final = classifier.make_submission_char(lang, model, sub, 'subm.csv', datapath,\n",
    "                          comment_types)\n",
    "    results += final"
   ]
  },
  {
   "cell_type": "code",
   "execution_count": 15,
   "metadata": {},
   "outputs": [
    {
     "data": {
      "text/plain": [
       "(95851, 50)"
      ]
     },
     "execution_count": 15,
     "metadata": {},
     "output_type": "execute_result"
    }
   ],
   "source": [
    "lang.encoded_sentences.shape"
   ]
  },
  {
   "cell_type": "code",
   "execution_count": 16,
   "metadata": {},
   "outputs": [
    {
     "data": {
      "text/plain": [
       "(95851, 6)"
      ]
     },
     "execution_count": 16,
     "metadata": {},
     "output_type": "execute_result"
    }
   ],
   "source": [
    "train.loc[:, comment_types].values.shape"
   ]
  },
  {
   "cell_type": "code",
   "execution_count": 17,
   "metadata": {},
   "outputs": [],
   "source": [
    "results = results/n\n",
    "sub.loc[:, comment_types] = results\n",
    "sub.to_csv(datapath + 'ensemble.csv', index = False)"
   ]
  },
  {
   "cell_type": "code",
   "execution_count": null,
   "metadata": {},
   "outputs": [],
   "source": [
    "classifier.make_submission_char(lang, model, sub, 'subm.csv', datapath,\n",
    "                          comment_types)"
   ]
  },
  {
   "cell_type": "code",
   "execution_count": null,
   "metadata": {},
   "outputs": [],
   "source": [
    "np.max(lang.encoded_test_sentences)"
   ]
  },
  {
   "cell_type": "code",
   "execution_count": null,
   "metadata": {},
   "outputs": [],
   "source": [
    "np.max(lang.encoded_sentences)\n"
   ]
  },
  {
   "cell_type": "code",
   "execution_count": null,
   "metadata": {},
   "outputs": [],
   "source": [
    "np.max(lang.encoded_chars)"
   ]
  },
  {
   "cell_type": "code",
   "execution_count": null,
   "metadata": {},
   "outputs": [],
   "source": [
    "np.max(lang.encoded_test_chars)"
   ]
  },
  {
   "cell_type": "code",
   "execution_count": null,
   "metadata": {},
   "outputs": [],
   "source": [
    "lang.vocab_size"
   ]
  },
  {
   "cell_type": "code",
   "execution_count": null,
   "metadata": {},
   "outputs": [],
   "source": []
  }
 ],
 "metadata": {
  "kernelspec": {
   "display_name": "Python 3",
   "language": "python",
   "name": "python3"
  },
  "language_info": {
   "codemirror_mode": {
    "name": "ipython",
    "version": 3
   },
   "file_extension": ".py",
   "mimetype": "text/x-python",
   "name": "python",
   "nbconvert_exporter": "python",
   "pygments_lexer": "ipython3",
   "version": "3.5.2"
  }
 },
 "nbformat": 4,
 "nbformat_minor": 2
}
