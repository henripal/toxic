{
 "cells": [
  {
   "cell_type": "code",
   "execution_count": 1,
   "metadata": {
    "collapsed": true
   },
   "outputs": [],
   "source": [
    "import pandas as pd\n",
    "import numpy as np\n",
    "from sklearn.feature_extraction.text import TfidfVectorizer, CountVectorizer, TfidfTransformer\n",
    "from sklearn.pipeline import Pipeline\n",
    "from sklearn.model_selection import train_test_split\n",
    "from sklearn.linear_model import LogisticRegression\n",
    "from sklearn.ensemble import RandomForestClassifier, ExtraTreesClassifier\n",
    "from sklearn.neural_network import MLPClassifier\n",
    "from sklearn.metrics import log_loss\n",
    "import matplotlib.pyplot as plt\n",
    "%matplotlib inline"
   ]
  },
  {
   "cell_type": "code",
   "execution_count": 2,
   "metadata": {
    "collapsed": true
   },
   "outputs": [],
   "source": [
    "%load_ext autoreload\n",
    "%autoreload 2"
   ]
  },
  {
   "cell_type": "code",
   "execution_count": 174,
   "metadata": {
    "collapsed": true
   },
   "outputs": [],
   "source": [
    "import classifier"
   ]
  },
  {
   "cell_type": "code",
   "execution_count": 173,
   "metadata": {},
   "outputs": [
    {
     "data": {
      "text/plain": [
       "array(['toxic', 'severe_toxic', 'obscene', 'threat', 'insult',\n",
       "       'identity_hate'], dtype=object)"
      ]
     },
     "execution_count": 173,
     "metadata": {},
     "output_type": "execute_result"
    }
   ],
   "source": [
    "import nltk"
   ]
  },
  {
   "cell_type": "code",
   "execution_count": 4,
   "metadata": {
    "collapsed": true
   },
   "outputs": [],
   "source": [
    "from pyfasttext import FastText"
   ]
  },
  {
   "cell_type": "markdown",
   "metadata": {},
   "source": [
    "# preprocess data"
   ]
  },
  {
   "cell_type": "code",
   "execution_count": 5,
   "metadata": {
    "collapsed": true
   },
   "outputs": [],
   "source": [
    "subset_train = 1\n",
    "max_features = 50000"
   ]
  },
  {
   "cell_type": "code",
   "execution_count": 6,
   "metadata": {
    "collapsed": true
   },
   "outputs": [],
   "source": [
    "datapath = '../data/'"
   ]
  },
  {
   "cell_type": "code",
   "execution_count": 7,
   "metadata": {
    "collapsed": true
   },
   "outputs": [],
   "source": [
    "train = pd.read_csv(datapath + 'train.csv')\n",
    "test = pd.read_csv(datapath + 'test.csv')\n",
    "sub = pd.read_csv(datapath + 'sample_submission.csv')\n",
    "train = train.iloc[:int(len(train) * subset_train), :]\n",
    "test = test.fillna('unknown')\n",
    "comment_types = train.columns[2:].values"
   ]
  },
  {
   "cell_type": "code",
   "execution_count": 157,
   "metadata": {
    "collapsed": true
   },
   "outputs": [],
   "source": [
    "X = train.comment_text.values\n",
    "y = train.loc[:, comment_types].values\n",
    "X_train, X_val, y_train, y_val = train_test_split(X,\n",
    "                                                y,\n",
    "                                                    random_state=42,\n",
    "                                                    stratify=np.sum(y, 1),\n",
    "                                                    test_size=0.2)"
   ]
  },
  {
   "cell_type": "code",
   "execution_count": 158,
   "metadata": {},
   "outputs": [],
   "source": [
    "result = np.zeros((len(X_train), len(comment_types))).astype(str)\n",
    "for i, comment_type in enumerate(comment_types):\n",
    "    result[:, i] = np.where(y_train[:, i],\n",
    "                            comment_type,\n",
    "                            'not' + comment_type)"
   ]
  },
  {
   "cell_type": "code",
   "execution_count": 159,
   "metadata": {},
   "outputs": [],
   "source": [
    "lines = [X_train[i].strip().replace(\"\\n\", '').replace('\"','') + ' ' +   '__label__' + ' __label__'.join(row) + '\\n' for i, row in enumerate(result)]"
   ]
  },
  {
   "cell_type": "code",
   "execution_count": 11,
   "metadata": {},
   "outputs": [],
   "source": [
    "file = open(datapath + 'fasttext2.csv', 'w')\n",
    "with file:\n",
    "    for line in lines:\n",
    "        file.write(line)\n",
    "    "
   ]
  },
  {
   "cell_type": "code",
   "execution_count": 12,
   "metadata": {
    "collapsed": true
   },
   "outputs": [],
   "source": [
    "model = FastText()"
   ]
  },
  {
   "cell_type": "code",
   "execution_count": 20,
   "metadata": {},
   "outputs": [],
   "source": [
    "model.supervised(input=datapath + 'fasttext2.csv',\n",
    "                 output=datapath,\n",
    "                lr=0.5,\n",
    "                epoch=100)"
   ]
  },
  {
   "cell_type": "code",
   "execution_count": 21,
   "metadata": {
    "collapsed": true
   },
   "outputs": [],
   "source": [
    "val_lines = [row.strip().replace(\"\\n\", '').replace('\"','') + '\\n'  for  row in X_val]\n",
    "probas = model.predict_proba(val_lines, k=None)"
   ]
  },
  {
   "cell_type": "code",
   "execution_count": 22,
   "metadata": {},
   "outputs": [],
   "source": [
    "probas_positive = [[(label, proba) for label, proba in sentence if label[:3] != 'not'] for sentence in probas ]"
   ]
  },
  {
   "cell_type": "code",
   "execution_count": 23,
   "metadata": {
    "collapsed": true
   },
   "outputs": [],
   "source": [
    "result_dict = dict(zip(comment_types, [[], [], [], [], [], []]))\n",
    "for tuple_list in probas_positive:\n",
    "    if tuple_list:\n",
    "        for comment_type, proba in tuple_list:\n",
    "            result_dict[comment_type].append(proba)\n",
    "    else:\n",
    "        for comment_type in comment_types:\n",
    "            result_dict[comment_type].append(.5)"
   ]
  },
  {
   "cell_type": "code",
   "execution_count": 24,
   "metadata": {},
   "outputs": [],
   "source": [
    "result_df = pd.DataFrame(result_dict)"
   ]
  },
  {
   "cell_type": "code",
   "execution_count": 25,
   "metadata": {},
   "outputs": [],
   "source": [
    "result_df = result_df.loc[:, comment_types]"
   ]
  },
  {
   "cell_type": "code",
   "execution_count": 26,
   "metadata": {},
   "outputs": [
    {
     "data": {
      "text/plain": [
       "0.19765947560497513"
      ]
     },
     "execution_count": 26,
     "metadata": {},
     "output_type": "execute_result"
    }
   ],
   "source": [
    "classifier.lloss(result_df.values, y_val)"
   ]
  },
  {
   "cell_type": "markdown",
   "metadata": {
    "collapsed": true
   },
   "source": [
    "## one by one"
   ]
  },
  {
   "cell_type": "code",
   "execution_count": 36,
   "metadata": {},
   "outputs": [
    {
     "data": {
      "text/plain": [
       "array([['nottoxic', 'notsevere_toxic', 'notobscene', 'notthreat',\n",
       "        'notinsult', 'notidentity_hate'],\n",
       "       ['nottoxic', 'notsevere_toxic', 'notobscene', 'notthreat',\n",
       "        'notinsult', 'notidentity_hate'],\n",
       "       ['nottoxic', 'notsevere_toxic', 'notobscene', 'notthreat',\n",
       "        'notinsult', 'notidentity_hate'],\n",
       "       ..., \n",
       "       ['nottoxic', 'notsevere_toxic', 'notobscene', 'notthreat',\n",
       "        'notinsult', 'notidentity_hate'],\n",
       "       ['nottoxic', 'notsevere_toxic', 'notobscene', 'notthreat',\n",
       "        'notinsult', 'notidentity_hate'],\n",
       "       ['nottoxic', 'notsevere_toxic', 'notobscene', 'notthreat',\n",
       "        'notinsult', 'notidentity_hate']],\n",
       "      dtype='<U32')"
      ]
     },
     "execution_count": 36,
     "metadata": {},
     "output_type": "execute_result"
    }
   ],
   "source": [
    "# result [:, i], contains toxix/nottoxic"
   ]
  },
  {
   "cell_type": "code",
   "execution_count": 160,
   "metadata": {
    "collapsed": true
   },
   "outputs": [],
   "source": [
    "from nltk.tokenize import TweetTokenizer\n",
    "tknzer = TweetTokenizer(preserve_case=False,\n",
    "                       reduce_len=True,\n",
    "                       strip_handles=True)\n"
   ]
  },
  {
   "cell_type": "code",
   "execution_count": null,
   "metadata": {
    "collapsed": true
   },
   "outputs": [],
   "source": []
  },
  {
   "cell_type": "code",
   "execution_count": 167,
   "metadata": {
    "collapsed": true
   },
   "outputs": [],
   "source": [
    "import string\n",
    "\n",
    "def simplify(text, tokenizer):\n",
    "    translate_table = dict((ord(char), None) for char in string.punctuation)\n",
    "    tokenized = tokenizer.tokenize(text)\n",
    "    sentenced = ' '.join(tokenized)\n",
    "    return sentenced.strip().replace(\"\\n\", '').replace('\"', '').translate(translate_table)"
   ]
  },
  {
   "cell_type": "code",
   "execution_count": 168,
   "metadata": {},
   "outputs": [],
   "source": [
    "lines = []\n",
    "for i, comment_type in enumerate(comment_types):\n",
    "    line_thiscomment = [simplify(X_train[j], tknzer) + ' ' +   '__label__' + label + ' \\n' for j, label in enumerate(result[:, i])]\n",
    "    lines.append(line_thiscomment)\n",
    " \n",
    "    "
   ]
  },
  {
   "cell_type": "code",
   "execution_count": 169,
   "metadata": {},
   "outputs": [],
   "source": [
    "for i, comment_type in enumerate(comment_types):\n",
    "    file = open(datapath + comment_type + '.txt', 'w')\n",
    "    with file:\n",
    "        for line in lines[i]:\n",
    "            file.write(line)\n",
    "    "
   ]
  },
  {
   "cell_type": "code",
   "execution_count": 170,
   "metadata": {},
   "outputs": [
    {
     "name": "stdout",
     "output_type": "stream",
     "text": [
      "computing toxic\n",
      "computing severe_toxic\n",
      "computing obscene\n",
      "computing threat\n",
      "computing insult\n",
      "computing identity_hate\n"
     ]
    }
   ],
   "source": [
    "results = np.zeros((len(X_val), len(comment_types))).astype(float)\n",
    "for i, comment_type in enumerate(comment_types):\n",
    "    print('computing {}'.format(comment_type))\n",
    "    model = FastText()\n",
    "    model.supervised(input=datapath + comment_type + '.txt',\n",
    "                     output=datapath,\n",
    "                    lr=0.1,\n",
    "                    epoch=8,\n",
    "                    minn=3,\n",
    "                    maxn=6,\n",
    "                    minCount=3,\n",
    "                    wordNgrams=2)\n",
    "    val_lines = [simplify(row, tknzer) + '\\n'  for  row in X_val]\n",
    "    probas = model.predict_proba(val_lines, k=None)\n",
    "    positive_probas = list(map(lambda x: dict(x)[comment_type], probas))\n",
    "    results[:, i] = positive_probas"
   ]
  },
  {
   "cell_type": "code",
   "execution_count": 171,
   "metadata": {},
   "outputs": [],
   "source": [
    "result_df = pd.DataFrame(results)\n",
    "result_df.columns = comment_types"
   ]
  },
  {
   "cell_type": "code",
   "execution_count": 172,
   "metadata": {},
   "outputs": [
    {
     "data": {
      "text/plain": [
       "0.057749417211966407"
      ]
     },
     "execution_count": 172,
     "metadata": {},
     "output_type": "execute_result"
    }
   ],
   "source": [
    "classifier.lloss(result_df.values, y_val)"
   ]
  },
  {
   "cell_type": "code",
   "execution_count": 67,
   "metadata": {},
   "outputs": [
    {
     "data": {
      "text/plain": [
       "[('notidentity_hate', 0.9492187483403163),\n",
       " ('identity_hate', 0.04882813874112768)]"
      ]
     },
     "execution_count": 67,
     "metadata": {},
     "output_type": "execute_result"
    }
   ],
   "source": [
    "probas[0]"
   ]
  },
  {
   "cell_type": "code",
   "execution_count": null,
   "metadata": {
    "collapsed": true
   },
   "outputs": [],
   "source": [
    "# don't preserve case: .05858\n",
    "# epochs from 8: 0.0577"
   ]
  }
 ],
 "metadata": {
  "kernelspec": {
   "display_name": "Python 3",
   "language": "python",
   "name": "python3"
  },
  "language_info": {
   "codemirror_mode": {
    "name": "ipython",
    "version": 3
   },
   "file_extension": ".py",
   "mimetype": "text/x-python",
   "name": "python",
   "nbconvert_exporter": "python",
   "pygments_lexer": "ipython3",
   "version": "3.6.0"
  }
 },
 "nbformat": 4,
 "nbformat_minor": 2
}
