{
 "cells": [
  {
   "cell_type": "code",
   "execution_count": 6,
   "metadata": {},
   "outputs": [],
   "source": [
    "import pandas as pd\n",
    "import numpy as np\n",
    "from sklearn.model_selection import train_test_split\n",
    "from sklearn.metrics import log_loss\n",
    "import matplotlib.pyplot as plt\n",
    "%matplotlib inline"
   ]
  },
  {
   "cell_type": "code",
   "execution_count": null,
   "metadata": {},
   "outputs": [],
   "source": [
    "%load_ext autoreload\n",
    "%autoreload 2"
   ]
  },
  {
   "cell_type": "code",
   "execution_count": 3,
   "metadata": {},
   "outputs": [],
   "source": [
    "import os, sys\n",
    "lib_path = os.path.abspath(os.path.join('../classifier/'))\n",
    "sys.path.append(lib_path)\n",
    "import classifier"
   ]
  },
  {
   "cell_type": "code",
   "execution_count": 4,
   "metadata": {},
   "outputs": [],
   "source": [
    "import nltk\n",
    "import torch\n",
    "import torchtext.vocab as vocab\n",
    "import torch.optim as optim\n",
    "import torch.autograd as autograd\n",
    "import torch.nn as nn\n",
    "import torch.utils.data as torchdata"
   ]
  },
  {
   "cell_type": "code",
   "execution_count": 5,
   "metadata": {},
   "outputs": [],
   "source": [
    "import pickle"
   ]
  },
  {
   "cell_type": "code",
   "execution_count": 7,
   "metadata": {},
   "outputs": [],
   "source": [
    "glove = vocab.GloVe(name='6B', dim=50)"
   ]
  },
  {
   "cell_type": "markdown",
   "metadata": {},
   "source": [
    "# preprocess data"
   ]
  },
  {
   "cell_type": "code",
   "execution_count": 8,
   "metadata": {},
   "outputs": [],
   "source": [
    "subset_train = 1"
   ]
  },
  {
   "cell_type": "code",
   "execution_count": 9,
   "metadata": {},
   "outputs": [],
   "source": [
    "datapath = '../data/'"
   ]
  },
  {
   "cell_type": "code",
   "execution_count": 10,
   "metadata": {},
   "outputs": [],
   "source": [
    "train = pd.read_csv(datapath + 'train.csv')\n",
    "test = pd.read_csv(datapath + 'test.csv')\n",
    "sub = pd.read_csv(datapath + 'sample_submission.csv')\n",
    "train = train.iloc[:int(len(train) * subset_train), :]\n",
    "test = test.iloc[:int(len(test) * subset_train), :]\n",
    "test = test.fillna('unknown')\n",
    "comment_types = train.columns[2:].values"
   ]
  },
  {
   "cell_type": "code",
   "execution_count": null,
   "metadata": {},
   "outputs": [],
   "source": [
    "lang = classifier.Language()"
   ]
  },
  {
   "cell_type": "code",
   "execution_count": null,
   "metadata": {},
   "outputs": [],
   "source": [
    "lang.process_sentences(train.comment_text.values,\n",
    "                      test_sentences=list(test.comment_text.values))"
   ]
  },
  {
   "cell_type": "code",
   "execution_count": null,
   "metadata": {},
   "outputs": [],
   "source": [
    "pickle.dump(lang, open(datapath + 'lang.pk', 'wb'))"
   ]
  },
  {
   "cell_type": "code",
   "execution_count": 11,
   "metadata": {},
   "outputs": [],
   "source": [
    "lang = pickle.load(open(datapath + 'lang.pk', 'rb'))"
   ]
  },
  {
   "cell_type": "code",
   "execution_count": 12,
   "metadata": {},
   "outputs": [],
   "source": [
    "init_embedding = classifier.create_init_embedding(lang, glove)"
   ]
  },
  {
   "cell_type": "code",
   "execution_count": 13,
   "metadata": {},
   "outputs": [],
   "source": [
    "model = classifier.NER_LSTM(lang.vocab_size,\n",
    "                           embedding_dim=50,\n",
    "                           hidden_dim=64,\n",
    "                            linear_dim=64, \n",
    "                           n_layers=1,\n",
    "                            dropout=.1,\n",
    "                            gpu=True,\n",
    "                           init_embedding=init_embedding,\n",
    "                           bidirectional=True)"
   ]
  },
  {
   "cell_type": "code",
   "execution_count": 14,
   "metadata": {},
   "outputs": [],
   "source": [
    "loss = nn.BCELoss()\n",
    "optimizer = optim.Adam(model.parameters(), lr=0.001)\n",
    "#model = model.cuda()"
   ]
  },
  {
   "cell_type": "code",
   "execution_count": 15,
   "metadata": {},
   "outputs": [],
   "source": [
    "trainer = classifier.Trainer(model,\n",
    "                             optimizer,\n",
    "                             loss,\n",
    "                             lang.encoded_sentences,\n",
    "                             train.loc[:, comment_types].values.astype(int),\n",
    "                             batch_size = 32,\n",
    "                            val_size=.25)"
   ]
  },
  {
   "cell_type": "code",
   "execution_count": 16,
   "metadata": {},
   "outputs": [
    {
     "name": "stdout",
     "output_type": "stream",
     "text": [
      "Epoch: 0    loss: 0.1320, val: 0.0543\n",
      "Epoch: 1    loss: 0.1124, val: 0.0517\n"
     ]
    }
   ],
   "source": [
    "trainer.train(2)"
   ]
  },
  {
   "cell_type": "code",
   "execution_count": null,
   "metadata": {},
   "outputs": [],
   "source": [
    "trainer.train(1)"
   ]
  },
  {
   "cell_type": "code",
   "execution_count": 21,
   "metadata": {},
   "outputs": [],
   "source": [
    "results = np.zeros_like(sub.loc[:, comment_types].values)"
   ]
  },
  {
   "cell_type": "code",
   "execution_count": 23,
   "metadata": {},
   "outputs": [
    {
     "name": "stdout",
     "output_type": "stream",
     "text": [
      "Epoch: 0    loss: 0.1277, val: 0.0441\n",
      "Epoch: 1    loss: 0.1116, val: 0.0411\n",
      "predicting...\n",
      "saving file...\n",
      "done\n",
      "Epoch: 0    loss: 0.1274, val: 0.0523\n",
      "Epoch: 1    loss: 0.1108, val: 0.0496\n",
      "predicting...\n",
      "saving file...\n",
      "done\n",
      "Epoch: 0    loss: 0.1276, val: 0.0497\n",
      "Epoch: 1    loss: 0.1120, val: 0.0466\n",
      "predicting...\n",
      "saving file...\n",
      "done\n",
      "Epoch: 0    loss: 0.1289, val: 0.0511\n",
      "Epoch: 1    loss: 0.1120, val: 0.0506\n",
      "predicting...\n",
      "saving file...\n",
      "done\n",
      "Epoch: 0    loss: 0.1277, val: 0.0446\n",
      "Epoch: 1    loss: 0.1115, val: 0.0400\n",
      "predicting...\n",
      "saving file...\n",
      "done\n",
      "Epoch: 0    loss: 0.1277, val: 0.0621\n",
      "Epoch: 1    loss: 0.1115, val: 0.0605\n",
      "predicting...\n",
      "saving file...\n",
      "done\n",
      "Epoch: 0    loss: 0.1283, val: 0.0674\n",
      "Epoch: 1    loss: 0.1113, val: 0.0653\n",
      "predicting...\n",
      "saving file...\n",
      "done\n",
      "Epoch: 0    loss: 0.1282, val: 0.0476\n",
      "Epoch: 1    loss: 0.1119, val: 0.0457\n",
      "predicting...\n",
      "saving file...\n",
      "done\n",
      "Epoch: 0    loss: 0.1279, val: 0.0448\n",
      "Epoch: 1    loss: 0.1111, val: 0.0421\n",
      "predicting...\n",
      "saving file...\n",
      "done\n",
      "Epoch: 0    loss: 0.1290, val: 0.0498\n",
      "Epoch: 1    loss: 0.1121, val: 0.0457\n",
      "predicting...\n",
      "saving file...\n",
      "done\n"
     ]
    }
   ],
   "source": [
    "for _ in range(10):\n",
    "    model = classifier.NER_LSTM(lang.vocab_size,\n",
    "                           embedding_dim=50,\n",
    "                           hidden_dim=64,\n",
    "                            linear_dim=64, \n",
    "                           n_layers=1,\n",
    "                            dropout=.1,\n",
    "                            gpu=True,\n",
    "                           init_embedding=init_embedding,\n",
    "                           bidirectional=True) \n",
    "    loss = nn.BCELoss()\n",
    "    optimizer = optim.Adam(model.parameters(), lr=0.001)\n",
    "    trainer = classifier.Trainer(model,\n",
    "                             optimizer,\n",
    "                             loss,\n",
    "                             lang.encoded_sentences,\n",
    "                             train.loc[:, comment_types].values.astype(int),\n",
    "                             batch_size = 32,\n",
    "                            val_size=0.01)\n",
    "    trainer.train(2)\n",
    "    final = classifier.make_submission(lang, model, sub, 'subm.csv', datapath,\n",
    "                          comment_types)\n",
    "    results += final"
   ]
  },
  {
   "cell_type": "code",
   "execution_count": 24,
   "metadata": {},
   "outputs": [],
   "source": [
    "results = results/10\n",
    "sub.loc[:, comment_types] = results\n",
    "sub.to_csv(datapath + 'ensemble.csv', index = False)"
   ]
  },
  {
   "cell_type": "code",
   "execution_count": null,
   "metadata": {},
   "outputs": [],
   "source": [
    "X_test = lang.encoded_test_sentences\n",
    "y_empty = torch.zeros(X_test.shape[0])\n",
    "dataset = torchdata.TensorDataset(torch.LongTensor(X_test.astype(int)), y_empty)\n",
    "loader = torchdata.DataLoader(dataset, batch_size = 256)\n",
    "preds = []\n",
    "model.eval()\n",
    "for X, _ in loader:\n",
    "    X = autograd.Variable(X).cuda()\n",
    "    log_probs = model(X).cpu().data.numpy()\n",
    "    preds.append(log_probs)\n",
    "final = np.vstack(preds)"
   ]
  },
  {
   "cell_type": "code",
   "execution_count": null,
   "metadata": {},
   "outputs": [],
   "source": [
    "sub.loc[:, comment_types] = final\n",
    "sub.to_csv(datapath + 'submission.csv', index = False)"
   ]
  },
  {
   "cell_type": "code",
   "execution_count": 20,
   "metadata": {},
   "outputs": [
    {
     "name": "stdout",
     "output_type": "stream",
     "text": [
      "predicting...\n",
      "saving file...\n",
      "done\n"
     ]
    }
   ],
   "source": [
    "classifier.make_submission(lang, model, sub, 'subm.csv', datapath,\n",
    "                          comment_types)"
   ]
  },
  {
   "cell_type": "code",
   "execution_count": null,
   "metadata": {},
   "outputs": [],
   "source": []
  }
 ],
 "metadata": {
  "kernelspec": {
   "display_name": "Python 3",
   "language": "python",
   "name": "python3"
  },
  "language_info": {
   "codemirror_mode": {
    "name": "ipython",
    "version": 3
   },
   "file_extension": ".py",
   "mimetype": "text/x-python",
   "name": "python",
   "nbconvert_exporter": "python",
   "pygments_lexer": "ipython3",
   "version": "3.5.2"
  }
 },
 "nbformat": 4,
 "nbformat_minor": 2
}
